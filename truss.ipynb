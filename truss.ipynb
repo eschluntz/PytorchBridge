{
 "cells": [
  {
   "cell_type": "code",
   "execution_count": 27,
   "metadata": {},
   "outputs": [],
   "source": [
    "import numpy as np\n",
    "import matplotlib.pyplot as plt\n",
    "from typing import Optional\n",
    "from matplotlib.patches import Rectangle"
   ]
  },
  {
   "cell_type": "code",
   "execution_count": 32,
   "metadata": {},
   "outputs": [
    {
     "name": "stdout",
     "output_type": "stream",
     "text": [
      "[[ 9.9604767 ]\n",
      " [10.33941023]\n",
      " [-9.90354876]\n",
      " [ 5.38516481]\n",
      " [-1.        ]\n",
      " [ 2.        ]\n",
      " [ 5.49125178]]\n"
     ]
    },
    {
     "ename": "ValueError",
     "evalue": "not enough values to unpack (expected 2, got 0)",
     "output_type": "error",
     "traceback": [
      "\u001b[0;31m---------------------------------------------------------------------------\u001b[0m",
      "\u001b[0;31mValueError\u001b[0m                                Traceback (most recent call last)",
      "Cell \u001b[0;32mIn[32], line 131\u001b[0m\n\u001b[1;32m    128\u001b[0m t\u001b[38;5;241m.\u001b[39madd_load(\u001b[38;5;241m4\u001b[39m, \u001b[38;5;241m0\u001b[39m, \u001b[38;5;241m5\u001b[39m)\n\u001b[1;32m    130\u001b[0m \u001b[38;5;28mprint\u001b[39m(t\u001b[38;5;241m.\u001b[39mcalculate_forces())\n\u001b[0;32m--> 131\u001b[0m \u001b[43mt\u001b[49m\u001b[38;5;241;43m.\u001b[39;49m\u001b[43mdraw\u001b[49m\u001b[43m(\u001b[49m\u001b[43m)\u001b[49m\n",
      "Cell \u001b[0;32mIn[32], line 41\u001b[0m, in \u001b[0;36mTruss.draw\u001b[0;34m(self)\u001b[0m\n\u001b[1;32m     40\u001b[0m \u001b[38;5;28;01mdef\u001b[39;00m \u001b[38;5;21mdraw\u001b[39m(\u001b[38;5;28mself\u001b[39m) \u001b[38;5;241m-\u001b[39m\u001b[38;5;241m>\u001b[39m \u001b[38;5;28;01mNone\u001b[39;00m:\n\u001b[0;32m---> 41\u001b[0m     fig, ax \u001b[38;5;241m=\u001b[39m plt\u001b[38;5;241m.\u001b[39mplot()\n\u001b[1;32m     42\u001b[0m     plt\u001b[38;5;241m.\u001b[39maxis(\u001b[38;5;124m'\u001b[39m\u001b[38;5;124mequal\u001b[39m\u001b[38;5;124m'\u001b[39m)\n\u001b[1;32m     44\u001b[0m     \u001b[38;5;66;03m# draw nodes\u001b[39;00m\n",
      "\u001b[0;31mValueError\u001b[0m: not enough values to unpack (expected 2, got 0)"
     ]
    },
    {
     "data": {
      "image/png": "[encoded data removed]",
      "text/plain": [
       "<Figure size 640x480 with 1 Axes>"
      ]
     },
     "metadata": {},
     "output_type": "display_data"
    }
   ],
   "source": [
    "class Truss:\n",
    "    def __init__(self, nodes : np.ndarray, edges :  np.ndarray) -> None:\n",
    "        \"\"\"Nodes: Nx2 np array of X,Y coord pairs.\n",
    "        Edges: Mx2 array of (i,j) edge pairs\"\"\"\n",
    "        self.n_nodes = len(nodes)\n",
    "        self.n_edges = len(edges)\n",
    "        assert nodes.shape == (self.n_nodes, 2)\n",
    "        assert edges.shape == (self.n_edges, 2)\n",
    "\n",
    "        self.nodes = nodes\n",
    "        self.edges = edges\n",
    "        self.loads = []\n",
    "        self.anchors = []\n",
    "        self.forces = None\n",
    "        self._validate_edges()\n",
    "    \n",
    "    def _validate_edges(self):\n",
    "        \"\"\"Validates that all edges make sense and have no duplicates\"\"\"\n",
    "        edge_set = set()\n",
    "        for i, j in self.edges:\n",
    "            assert 0 <= i < self.n_nodes, f\"index error: {i}\"\n",
    "            assert 0 <= j < self.n_nodes, f\"index error for {j}\"\n",
    "            edge = frozenset((i, j))\n",
    "            assert edge not in edge_set, f\"Duplicate edge {(i,j)}!\"\n",
    "            edge_set.add(edge)\n",
    "    \n",
    "    def add_load(self, idx, fx, fy):\n",
    "        \"\"\"\"\"\"\n",
    "        assert 0 <= idx < self.n_nodes\n",
    "        self.loads.append((idx, fx, fy))\n",
    "\n",
    "    def add_anchor(self, idx, x=True, y=True):\n",
    "        \"\"\"Sets node at idx to be an anchor in possibly the x and y dimensions.\n",
    "        An anchor node does not need to reach equilibrium, because any\n",
    "        excess force will be taken in by the ground. It should not be\n",
    "        included in the system of equations!\"\"\"\n",
    "        assert 0 <= idx < self.n_nodes\n",
    "        self.anchors.append((idx, x, y))\n",
    "    \n",
    "    def draw(self) -> None:\n",
    "        fig, ax = plt.subplots()\n",
    "        plt.axis('equal')\n",
    "\n",
    "        # draw nodes\n",
    "        plt.scatter(self.nodes[:, 0], self.nodes[:, 1])\n",
    "        \n",
    "        # draw edges\n",
    "        if self.forces is None:\n",
    "            for i, j in self.edges:\n",
    "                plt.plot(nodes[[i, j], 0], nodes[[i, j], 1] , 'k-')\n",
    "        else:\n",
    "            for (i, j), f in zip(self.edges, self.forces):\n",
    "                color = 'r' if f > 0 else 'b'\n",
    "                plt.plot(\n",
    "                    nodes[[i, j], 0], nodes[[i, j], 1], \n",
    "                    f'{color}-',\n",
    "                    linewidth=abs(f))\n",
    "\n",
    "        # draw loads\n",
    "        for idx, fx, fy in self.loads:\n",
    "            fx /= 10\n",
    "            fy /= 10\n",
    "            plt.arrow(self.nodes[idx][0] - fx, self.nodes[idx][1] - fy, fx, fy, \n",
    "                head_width = 0.2,\n",
    "                width = 0.05,\n",
    "                # ec ='red',\n",
    "                color='red',\n",
    "                length_includes_head=True)\n",
    "            \n",
    "        # draw anchors\n",
    "        # for idx, x, y in self.anchors:\n",
    "        ax.add_patch(Rectangle((1,1),(1,1)))\n",
    "            \n",
    "    def _get_unit_xy(self, dx, dy):\n",
    "        \"\"\"Return the unit components of x, y normalized by total vector length\"\"\"\n",
    "        hypot = np.sqrt(dx**2 + dy**2)\n",
    "        return dx / hypot, dy / hypot\n",
    "\n",
    "    \n",
    "    def calculate_forces(self):\n",
    "        \"\"\"Computes the force on each beam!\n",
    "        A@F = L\n",
    "        Positive forces are compression, negative are tension.\n",
    "        \"\"\"\n",
    "\n",
    "        # create design matrix\n",
    "        A = np.zeros((2 * self.n_nodes, self.n_edges))\n",
    "        for edge_i, (n1_i, n2_i) in enumerate(self.edges):\n",
    "            # print(\"----------\")\n",
    "            # print(f\"{edge_i=}, {n1_i=}, {n2_i=}\")\n",
    "\n",
    "            n1x, n1y = self.nodes[n1_i]\n",
    "            n2x, n2y = self.nodes[n2_i]\n",
    "            # print(f\" n1, n2: ({n1x, n1y}), ({n2x, n2y})\")\n",
    "            ux, uy = self._get_unit_xy(n1x - n2x, n1y - n2y)\n",
    "            # print(f\"{ux=}, {uy=}\")\n",
    "\n",
    "            # towards N1\n",
    "            A[n1_i * 2][edge_i], A[n1_i * 2 + 1][edge_i] = ux, uy\n",
    "\n",
    "            # towards N2\n",
    "            A[n2_i * 2][edge_i], A[n2_i * 2 + 1][edge_i] = -ux, -uy\n",
    "\n",
    "\n",
    "        # construct load vector\n",
    "        load_vec = np.zeros((2 * self.n_nodes, 1))  # stored as [x1,y1,x2,y2...]\n",
    "        for idx, fx, fy in self.loads:\n",
    "            load_vec[idx * 2] += fx\n",
    "            load_vec[idx * 2 + 1] += fy\n",
    "\n",
    "        self.forces = np.linalg.lstsq(A, -load_vec, rcond=None)[0]\n",
    "        return self.forces\n",
    "\n",
    "\n",
    "# equilateral triangle example\n",
    "nodes = np.array((\n",
    "    (0.5, np.sin(2*np.pi/3)),\n",
    "    (-.2, .5),\n",
    "    (1.1, .5),\n",
    "    (0, 0), \n",
    "    (1, 0),\n",
    "))\n",
    "edges = np.array(((0,1), (0, 2), (1, 2), (1, 3), (1,4), (4,3), (2,4)))\n",
    "t = Truss(nodes, edges)\n",
    "\n",
    "t.add_load(0, 0, -10)\n",
    "t.add_load(3, 0, 5)\n",
    "t.add_load(4, 0, 5)\n",
    "\n",
    "print(t.calculate_forces())\n",
    "t.draw()\n"
   ]
  },
  {
   "cell_type": "code",
   "execution_count": 26,
   "metadata": {},
   "outputs": [
    {
     "data": {
      "image/png": "[encoded data removed]",
      "text/plain": [
       "<Figure size 640x480 with 1 Axes>"
      ]
     },
     "metadata": {},
     "output_type": "display_data"
    }
   ],
   "source": [
    "# Equilateral triangle test with pure forces\n",
    "nodes = np.array((\n",
    "    (0.5, np.sin(2*np.pi/3)),\n",
    "    (0, 0), \n",
    "    (1, 0),\n",
    "))\n",
    "edges = np.array(((0,1), (1, 2), (2, 0)))\n",
    "t = Truss(nodes, edges)\n",
    "\n",
    "t.add_load(0, 0, -10)\n",
    "t.add_load(1, 0, 5)\n",
    "t.add_load(2, 0, 5)\n",
    "\n",
    "forces = t.calculate_forces()\n",
    "t.draw()\n",
    "expected = np.array([[5.77350269, -2.88675135, 5.77350269]]).T\n",
    "assert sum((forces - expected)**2) < 0.001"
   ]
  }
 ],
 "metadata": {
  "kernelspec": {
   "display_name": "ml",
   "language": "python",
   "name": "python3"
  },
  "language_info": {
   "codemirror_mode": {
    "name": "ipython",
    "version": 3
   },
   "file_extension": ".py",
   "mimetype": "text/x-python",
   "name": "python",
   "nbconvert_exporter": "python",
   "pygments_lexer": "ipython3",
   "version": "3.10.13"
  }
 },
 "nbformat": 4,
 "nbformat_minor": 2
}
